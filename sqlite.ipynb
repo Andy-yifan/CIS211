{
 "cells": [
  {
   "cell_type": "markdown",
   "metadata": {},
   "source": [
    "# <span style=\"color:teal;\">CIS 211 Project 7:  SQLite</span>"
   ]
  },
  {
   "cell_type": "markdown",
   "metadata": {},
   "source": [
    "##### Due 11:00 P.M. Friday Feb 26"
   ]
  },
  {
   "cell_type": "markdown",
   "metadata": {},
   "source": [
    "This project will give you some experience writing database queries in SQL and connecting to a SQLite database from Python."
   ]
  },
  {
   "cell_type": "markdown",
   "metadata": {},
   "source": [
    "### <span style=\"color:teal\">Setup</span>"
   ]
  },
  {
   "cell_type": "markdown",
   "metadata": {},
   "source": [
    "Download the Sakila database (the file named `sakila211.db`) and move it to the same folder as this IPython notebook."
   ]
  },
  {
   "cell_type": "markdown",
   "metadata": {},
   "source": [
    "### <span style=\"color:teal\">Executing Queries in an IPython Notebook</span>"
   ]
  },
  {
   "cell_type": "markdown",
   "metadata": {},
   "source": [
    "To solve the problems in the first two sections of this project you need to write a SQL query based on the tables in the Sakila211 database.  \n",
    "\n",
    "To execute a query from an IPython Notebook write the query in quotes as part of a shell command:\n",
    "```\n",
    "! sqlite3 sakila211.db \"...\"\n",
    "```\n",
    "\n",
    "For example, to answer the question \"What are the names and ratings of the films\" your code cell would have\n",
    "```\n",
    "! sqlite3 sakila211.db \"select title, rating from film\"\n",
    "```\n",
    "\n",
    "Some of the queries will produce a lot of output.  You can add a `LIMIT` clause to any query if you want to reduce the size of the output."
   ]
  },
  {
   "cell_type": "markdown",
   "metadata": {},
   "source": [
    "**Note:** &nbsp; Your grade will not depend on the output format.  If want to have a nicer looking output that includes column headers create a file named `.sqliterc` in your home folder and add these two lines:\n",
    "```\n",
    ".header on\n",
    ".mode column\n",
    "```"
   ]
  },
  {
   "cell_type": "code",
   "execution_count": null,
   "metadata": {
    "collapsed": false
   },
   "outputs": [],
   "source": [
    "! sqlite3 sakila211.db \".tables\""
   ]
  },
  {
   "cell_type": "markdown",
   "metadata": {},
   "source": [
    "## <span style=\"color:teal\">Part 1:  &nbsp; Queries</span>"
   ]
  },
  {
   "cell_type": "markdown",
   "metadata": {},
   "source": [
    "The following questions can all be answered using records from a single table."
   ]
  },
  {
   "cell_type": "markdown",
   "metadata": {},
   "source": [
    "(1) What are the first and last names of all the customers?"
   ]
  },
  {
   "cell_type": "code",
   "execution_count": null,
   "metadata": {
    "collapsed": false,
    "deletable": false,
    "nbgrader": {
     "checksum": "91ee3c877c70f8544f5ce07e910194bf",
     "grade": true,
     "grade_id": "query_1",
     "locked": false,
     "points": 2,
     "solution": true
    }
   },
   "outputs": [],
   "source": [
    "! sqlite3 sakila211.db \"select first_name,last_name from customer\""
   ]
  },
  {
   "cell_type": "markdown",
   "metadata": {},
   "source": [
    "(2) What are the e-mail addresses of customers whose first name is “Willard”?"
   ]
  },
  {
   "cell_type": "code",
   "execution_count": null,
   "metadata": {
    "collapsed": false,
    "deletable": false,
    "nbgrader": {
     "checksum": "64e446ba985806fb04f9ef039fe65952",
     "grade": true,
     "grade_id": "query_2",
     "locked": false,
     "points": 2,
     "solution": true
    }
   },
   "outputs": [],
   "source": [
    "! sqlite3 sakila211.db \"select email from customer where first_name = 'Willard'\""
   ]
  },
  {
   "cell_type": "markdown",
   "metadata": {},
   "source": [
    "(3) How many customers are there?"
   ]
  },
  {
   "cell_type": "code",
   "execution_count": null,
   "metadata": {
    "collapsed": false,
    "deletable": false,
    "nbgrader": {
     "checksum": "6a4f0b6dde1ac7d790f97794e7783a42",
     "grade": true,
     "grade_id": "query_3",
     "locked": false,
     "points": 2,
     "solution": true
    }
   },
   "outputs": [],
   "source": [
    "! sqlite3 sakila211.db \"select count(last_name) from customer\""
   ]
  },
  {
   "cell_type": "markdown",
   "metadata": {},
   "source": [
    "(4) How many customers shop at store number 1?"
   ]
  },
  {
   "cell_type": "code",
   "execution_count": null,
   "metadata": {
    "collapsed": false,
    "deletable": false,
    "nbgrader": {
     "checksum": "f08fc7c6be8b740e600e483f045942fe",
     "grade": true,
     "grade_id": "query_4",
     "locked": false,
     "points": 2,
     "solution": true
    }
   },
   "outputs": [],
   "source": [
    "! sqlite3 sakila211.db \"select count(last_name) from  customer where store_id='1'\""
   ]
  },
  {
   "cell_type": "markdown",
   "metadata": {},
   "source": [
    "(5) How much does it cost to rent the film named “Virtual Spoilers”?"
   ]
  },
  {
   "cell_type": "code",
   "execution_count": null,
   "metadata": {
    "collapsed": false,
    "deletable": false,
    "nbgrader": {
     "checksum": "3d0a2eff95a0c91e3972df7cffcc5cde",
     "grade": true,
     "grade_id": "query_5",
     "locked": false,
     "points": 2,
     "solution": true
    }
   },
   "outputs": [],
   "source": [
    "! sqlite3 sakila211.db \"select rental_rate from  film where title='Virtual Spoilers'\""
   ]
  },
  {
   "cell_type": "markdown",
   "metadata": {},
   "source": [
    "(6) Do any films have the word “Princess” in the title?"
   ]
  },
  {
   "cell_type": "code",
   "execution_count": null,
   "metadata": {
    "collapsed": false,
    "deletable": false,
    "nbgrader": {
     "checksum": "32aac141a11a289bcdf659acc75988ca",
     "grade": true,
     "grade_id": "query_6",
     "locked": false,
     "points": 2,
     "solution": true
    }
   },
   "outputs": [],
   "source": [
    "! sqlite3 sakila211.db \"select count(title) from  film where title like'%Princess%'\""
   ]
  },
  {
   "cell_type": "markdown",
   "metadata": {},
   "source": [
    "(7) What are the titles of the films that are longer than 180 minutes?"
   ]
  },
  {
   "cell_type": "code",
   "execution_count": null,
   "metadata": {
    "collapsed": false,
    "deletable": false,
    "nbgrader": {
     "checksum": "a56541c60971ed0218521fde895de3af",
     "grade": true,
     "grade_id": "query_7",
     "locked": false,
     "points": 2,
     "solution": true
    }
   },
   "outputs": [],
   "source": [
    "! sqlite3 sakila211.db \"select title from  film where length>'180'\""
   ]
  },
  {
   "cell_type": "markdown",
   "metadata": {},
   "source": [
    "(8) How many films have a “G” rating and are less than 60 minutes long?"
   ]
  },
  {
   "cell_type": "code",
   "execution_count": null,
   "metadata": {
    "collapsed": false,
    "deletable": false,
    "nbgrader": {
     "checksum": "3f60984cef7bc7cea4eebc63abbb9111",
     "grade": true,
     "grade_id": "query_8",
     "locked": false,
     "points": 2,
     "solution": true
    }
   },
   "outputs": [],
   "source": [
    "! sqlite3 sakila211.db \"select count(title) from  film where rating='G' and length>'60'\""
   ]
  },
  {
   "cell_type": "markdown",
   "metadata": {},
   "source": [
    "(9) What is the maximum replacement cost for any film?"
   ]
  },
  {
   "cell_type": "code",
   "execution_count": null,
   "metadata": {
    "collapsed": false,
    "deletable": false,
    "nbgrader": {
     "checksum": "4e978c554314837f99ada46bba4506cc",
     "grade": true,
     "grade_id": "query_9",
     "locked": false,
     "points": 2,
     "solution": true
    }
   },
   "outputs": [],
   "source": [
    "! sqlite3 sakila211.db \"select max(replacement_cost) from  film \""
   ]
  },
  {
   "cell_type": "markdown",
   "metadata": {},
   "source": [
    "(10) Print a table that lists the different types of ratings and the number of films that have that rating."
   ]
  },
  {
   "cell_type": "code",
   "execution_count": null,
   "metadata": {
    "collapsed": false,
    "deletable": false,
    "nbgrader": {
     "checksum": "8e1de89901999890be844e2915eb5ef4",
     "grade": true,
     "grade_id": "query_10",
     "locked": false,
     "points": 2,
     "solution": true
    }
   },
   "outputs": [],
   "source": [
    "! sqlite3 sakila211.db \"select rating, count(title) from  film group by rating\""
   ]
  },
  {
   "cell_type": "markdown",
   "metadata": {},
   "source": [
    "## <span style=\"color:teal\">Part 2: &nbsp; Joins</span>"
   ]
  },
  {
   "cell_type": "markdown",
   "metadata": {},
   "source": [
    "The following queries all require a join of two or more tables. As a hint for how to create the query the table names are shown next to each a question."
   ]
  },
  {
   "cell_type": "markdown",
   "metadata": {},
   "source": [
    "(11) What are the film IDs of movies starring Jude Cruise?  &nbsp; &nbsp; [`actor`, `film_actor`]"
   ]
  },
  {
   "cell_type": "code",
   "execution_count": null,
   "metadata": {
    "collapsed": false,
    "deletable": false,
    "nbgrader": {
     "checksum": "c626f13f16b011b334890f13ccf48a7b",
     "grade": true,
     "grade_id": "query_11",
     "locked": false,
     "points": 3,
     "solution": true
    }
   },
   "outputs": [],
   "source": [
    "! sqlite3 sakila211.db \"select film_id as film_id_acted_by_Jude from actor join film_actor using(actor_id) where first_name='Jude'\""
   ]
  },
  {
   "cell_type": "markdown",
   "metadata": {},
   "source": [
    "(12) What language was “Ace Goldfinger” filmed in?  &nbsp; &nbsp; [`film`, `language`]"
   ]
  },
  {
   "cell_type": "code",
   "execution_count": null,
   "metadata": {
    "collapsed": false,
    "deletable": false,
    "nbgrader": {
     "checksum": "5c2b9575dc400f86b959c7ff874df154",
     "grade": true,
     "grade_id": "query_12",
     "locked": false,
     "points": 3,
     "solution": true
    }
   },
   "outputs": [],
   "source": [
    "! sqlite3 sakila211.db \"select  name as language from film join language  using(language_id) where title='Ace Goldfinger' \""
   ]
  },
  {
   "cell_type": "markdown",
   "metadata": {},
   "source": [
    "(13) How many actors starred in the film named “Scalawag Duck”? &nbsp; &nbsp; [`film`, `film_actor`]"
   ]
  },
  {
   "cell_type": "code",
   "execution_count": null,
   "metadata": {
    "collapsed": false,
    "deletable": false,
    "nbgrader": {
     "checksum": "55c2dcfd7dd9ca5a67855c6cb0c309be",
     "grade": true,
     "grade_id": "query_13",
     "locked": false,
     "points": 3,
     "solution": true
    }
   },
   "outputs": [],
   "source": [
    "! sqlite3 sakila211.db \"select  count(actor_id) as number_of_actors  from film_actor join film using(film_id) where title='Scalawag Duck' \""
   ]
  },
  {
   "cell_type": "markdown",
   "metadata": {},
   "source": [
    "(14) Produce a table that shows how many films each customer has rented.  &nbsp; &nbsp; [`customer`, `rental`]"
   ]
  },
  {
   "cell_type": "code",
   "execution_count": 84,
   "metadata": {
    "collapsed": false,
    "deletable": false,
    "nbgrader": {
     "checksum": "db0fdecae51287220f5b1fc17f4f1538",
     "grade": true,
     "grade_id": "query_14",
     "locked": false,
     "points": 3,
     "solution": true
    }
   },
   "outputs": [
    {
     "name": "stdout",
     "output_type": "stream",
     "text": [
      "-- Loading resources from /Users/Andyfish/.sqliterc\n",
      "\n",
      "customer_id  first_name  last_name   number_of_film_they_rent\n",
      "-----------  ----------  ----------  ------------------------\n",
      "1            Mary        Smith       32                      \n",
      "2            Patricia    Johnson     27                      \n",
      "3            Linda       Williams    26                      \n",
      "4            Barbara     Jones       22                      \n",
      "5            Elizabeth   Brown       38                      \n",
      "6            Jennifer    Davis       28                      \n",
      "7            Maria       Miller      33                      \n",
      "8            Susan       Wilson      24                      \n",
      "9            Margaret    Moore       23                      \n",
      "10           Dorothy     Taylor      25                      \n",
      "11           Lisa        Anderson    24                      \n",
      "12           Nancy       Thomas      28                      \n",
      "13           Karen       Jackson     27                      \n",
      "14           Betty       White       28                      \n",
      "15           Helen       Harris      32                      \n",
      "16           Sandra      Martin      28                      \n",
      "17           Donna       Thompson    21                      \n",
      "18           Carol       Garcia      22                      \n",
      "19           Ruth        Martinez    24                      \n",
      "20           Sharon      Robinson    30                      \n",
      "21           Michelle    Clark       35                      \n",
      "22           Laura       Rodriguez   22                      \n",
      "23           Sarah       Lewis       30                      \n",
      "24           Kimberly    Lee         25                      \n",
      "25           Deborah     Walker      29                      \n",
      "26           Jessica     Hall        34                      \n",
      "27           Shirley     Allen       31                      \n",
      "28           Cynthia     Young       32                      \n",
      "29           Angela      Hernandez   36                      \n",
      "30           Melissa     King        34                      \n",
      "31           Brenda      Wright      26                      \n",
      "32           Amy         Lopez       29                      \n",
      "33           Anna        Hill        21                      \n",
      "34           Rebecca     Scott       24                      \n",
      "35           Virginia    Green       32                      \n",
      "36           Kathleen    Adams       27                      \n",
      "37           Pamela      Baker       23                      \n",
      "38           Martha      Gonzalez    34                      \n",
      "39           Debra       Nelson      29                      \n",
      "40           Amanda      Carter      27                      \n",
      "41           Stephanie   Mitchell    25                      \n",
      "42           Carolyn     Perez       30                      \n",
      "43           Christine   Roberts     24                      \n",
      "44           Marie       Turner      26                      \n",
      "45           Janet       Phillips    27                      \n",
      "46           Catherine   Campbell    34                      \n",
      "47           Frances     Parker      22                      \n",
      "48           Ann         Evans       17                      \n",
      "49           Joyce       Edwards     28                      \n",
      "50           Diane       Collins     35                      \n",
      "51           Alice       Stewart     33                      \n",
      "52           Julie       Sanchez     29                      \n",
      "53           Heather     Morris      30                      \n",
      "54           Teresa      Rogers      29                      \n",
      "55           Doris       Reed        22                      \n",
      "56           Gloria      Cook        30                      \n",
      "57           Evelyn      Morgan      28                      \n",
      "58           Jean        Bell        27                      \n",
      "59           Cheryl      Murphy      27                      \n",
      "60           Mildred     Bailey      25                      \n",
      "61           Katherine   Rivera      14                      \n",
      "62           Joan        Cooper      23                      \n",
      "63           Ashley      Richardson  25                      \n",
      "64           Judith      Cox         33                      \n",
      "65           Rose        Howard      22                      \n",
      "66           Janice      Ward        34                      \n",
      "67           Kelly       Torres      22                      \n",
      "68           Nicole      Peterson    22                      \n",
      "69           Judy        Gray        25                      \n",
      "70           Christina   Ramirez     18                      \n",
      "71           Kathy       James       30                      \n",
      "72           Theresa     Watson      30                      \n",
      "73           Beverly     Brooks      24                      \n",
      "74           Denise      Kelly       27                      \n",
      "75           Tammy       Sanders     41                      \n",
      "76           Irene       Price       23                      \n",
      "77           Jane        Bennett     28                      \n",
      "78           Lori        Wood        31                      \n",
      "79           Rachel      Barnes      22                      \n",
      "80           Marilyn     Ross        30                      \n",
      "81           Andrea      Henderson   22                      \n",
      "82           Kathryn     Coleman     26                      \n",
      "83           Louise      Jenkins     25                      \n",
      "84           Sara        Perry       33                      \n",
      "85           Anne        Powell      23                      \n",
      "86           Jacqueline  Long        33                      \n",
      "87           Wanda       Patterson   30                      \n",
      "88           Bonnie      Hughes      21                      \n",
      "89           Julia       Flores      32                      \n",
      "90           Ruby        Washington  28                      \n",
      "91           Lois        Butler      35                      \n",
      "92           Tina        Simmons     28                      \n",
      "93           Phyllis     Foster      23                      \n",
      "94           Norma       Gonzales    21                      \n",
      "95           Paula       Bryant      18                      \n",
      "96           Diana       Alexander   27                      \n",
      "97           Annie       Russell     18                      \n",
      "98           Lillian     Griffin     25                      \n",
      "99           Emily       Diaz        24                      \n",
      "100          Robin       Hayes       24                      \n",
      "101          Peggy       Myers       24                      \n",
      "102          Crystal     Ford        33                      \n",
      "103          Gladys      Hamilton    31                      \n",
      "104          Rita        Graham      24                      \n",
      "105          Dawn        Sullivan    26                      \n",
      "106          Connie      Wallace     23                      \n",
      "107          Florence    Woods       30                      \n",
      "108          Tracy       Cole        30                      \n",
      "109          Edna        West        26                      \n",
      "110          Tiffany     Jordan      14                      \n",
      "111          Carmen      Owens       26                      \n",
      "112          Rosa        Reynolds    30                      \n",
      "113          Cindy       Fisher      29                      \n",
      "114          Grace       Ellis       33                      \n",
      "115          Wendy       Harrison    30                      \n",
      "116          Victoria    Gibson      27                      \n",
      "117          Edith       Mcdonald    19                      \n",
      "118          Kim         Cruz        21                      \n",
      "119          Sherry      Marshall    34                      \n",
      "120          Sylvia      Ortiz       32                      \n",
      "121          Josephine   Gomez       26                      \n",
      "122          Thelma      Murray      32                      \n",
      "123          Shannon     Freeman     24                      \n",
      "124          Sheila      Wells       18                      \n",
      "125          Ethel       Webb        32                      \n",
      "126          Ellen       Simpson     28                      \n",
      "127          Elaine      Stevens     24                      \n",
      "128          Marjorie    Tucker      32                      \n",
      "129          Carrie      Porter      34                      \n",
      "130          Charlotte   Hunter      24                      \n",
      "131          Monica      Hicks       30                      \n",
      "132          Esther      Crawford    28                      \n",
      "133          Pauline     Henry       27                      \n",
      "134          Emma        Boyd        23                      \n",
      "135          Juanita     Mason       30                      \n",
      "136          Anita       Morales     15                      \n",
      "137          Rhonda      Kennedy     39                      \n",
      "138          Hazel       Warren      34                      \n",
      "139          Amber       Dixon       27                      \n",
      "140          Eva         Ramos       18                      \n",
      "141          Debbie      Reyes       32                      \n",
      "142          April       Burns       26                      \n",
      "143          Leslie      Gordon      22                      \n",
      "144          Clara       Shaw        42                      \n",
      "145          Lucille     Holmes      28                      \n",
      "146          Jamie       Rice        29                      \n",
      "147          Joanne      Robertson   34                      \n",
      "148          Eleanor     Hunt        46                      \n",
      "149          Valerie     Black       26                      \n",
      "150          Danielle    Daniels     25                      \n",
      "151          Megan       Palmer      27                      \n",
      "152          Alicia      Mills       21                      \n",
      "153          Suzanne     Nichols     24                      \n",
      "154          Michele     Grant       30                      \n",
      "155          Gail        Knight      25                      \n",
      "156          Bertha      Ferguson    25                      \n",
      "157          Darlene     Rose        31                      \n",
      "158          Veronica    Stone       32                      \n",
      "159          Jill        Hawkins     21                      \n",
      "160          Erin        Dunn        27                      \n",
      "161          Geraldine   Perkins     30                      \n",
      "162          Lauren      Hudson      20                      \n",
      "163          Cathy       Spencer     29                      \n",
      "164          Joann       Gardner     16                      \n",
      "165          Lorraine    Stephens    21                      \n",
      "166          Lynn        Payne       28                      \n",
      "167          Sally       Pierce      32                      \n",
      "168          Regina      Berry       34                      \n",
      "169          Erica       Matthews    22                      \n",
      "170          Beatrice    Arnold      26                      \n",
      "171          Dolores     Wagner      26                      \n",
      "172          Bernice     Willis      33                      \n",
      "173          Audrey      Ray         29                      \n",
      "174          Yvonne      Watkins     21                      \n",
      "175          Annette     Olson       24                      \n",
      "176          June        Carroll     37                      \n",
      "177          Samantha    Duncan      23                      \n",
      "178          Marion      Snyder      39                      \n",
      "179          Dana        Hart        29                      \n",
      "180          Stacy       Cunningham  23                      \n",
      "181          Ana         Bradley     34                      \n",
      "182          Renee       Lane        26                      \n",
      "183          Ida         Andrews     23                      \n",
      "184          Vivian      Ruiz        23                      \n",
      "185          Roberta     Harper      23                      \n",
      "186          Holly       Fox         31                      \n",
      "187          Brittany    Riley       28                      \n",
      "188          Melanie     Armstrong   25                      \n",
      "189          Loretta     Carpenter   22                      \n",
      "190          Yolanda     Weaver      27                      \n",
      "191          Jeanette    Greene      20                      \n",
      "192          Laurie      Lawrence    23                      \n",
      "193          Katie       Elliott     25                      \n",
      "194          Kristen     Chavez      18                      \n",
      "195          Vanessa     Sims        19                      \n",
      "196          Alma        Austin      35                      \n",
      "197          Sue         Peters      40                      \n",
      "198          Elsie       Kelley      37                      \n",
      "199          Beth        Franklin    25                      \n",
      "200          Jeanne      Lawson      27                      \n",
      "201          Vicki       Fields      25                      \n",
      "202          Carla       Gutierrez   26                      \n",
      "203          Tara        Ryan        20                      \n",
      "204          Rosemary    Schmidt     35                      \n",
      "205          Eileen      Carr        18                      \n",
      "206          Terri       Vasquez     27                      \n",
      "207          Gertrude    Castillo    34                      \n",
      "208          Lucy        Wheeler     26                      \n",
      "209          Tonya       Chapman     32                      \n",
      "210          Ella        Oliver      31                      \n",
      "211          Stacey      Montgomery  34                      \n",
      "212          Wilma       Richards    20                      \n",
      "213          Gina        Williamson  28                      \n",
      "214          Kristin     Johnston    31                      \n",
      "215          Jessie      Banks       26                      \n",
      "216          Natalie     Meyer       23                      \n",
      "217          Agnes       Bishop      23                      \n",
      "218          Vera        Mccoy       18                      \n",
      "219          Willie      Howell      26                      \n",
      "220          Charlene    Alvarez     27                      \n",
      "221          Bessie      Morrison    28                      \n",
      "222          Delores     Hansen      21                      \n",
      "223          Melinda     Fernandez   17                      \n",
      "224          Pearl       Garza       22                      \n",
      "225          Arlene      Harvey      26                      \n",
      "226          Maureen     Little      21                      \n",
      "227          Colleen     Burton      24                      \n",
      "228          Allison     Stanley     27                      \n",
      "229          Tamara      Nguyen      25                      \n",
      "230          Joy         George      33                      \n",
      "231          Georgia     Jacobs      26                      \n",
      "232          Constance   Reid        25                      \n",
      "233          Lillie      Kim         23                      \n",
      "234          Claudia     Fuller      26                      \n",
      "235          Jackie      Lynch       25                      \n",
      "236          Marcia      Dean        42                      \n",
      "237          Tanya       Gilbert     33                      \n",
      "238          Nellie      Garrett     21                      \n",
      "239          Minnie      Romero      34                      \n",
      "240          Marlene     Welch       26                      \n",
      "241          Heidi       Larson      34                      \n",
      "242          Glenda      Frazier     32                      \n",
      "243          Lydia       Burke       24                      \n",
      "244          Viola       Hanson      32                      \n",
      "245          Courtney    Day         32                      \n",
      "246          Marian      Mendoza     23                      \n",
      "247          Stella      Moreno      22                      \n",
      "248          Caroline    Bowman      15                      \n",
      "249          Dora        Medina      23                      \n",
      "250          Jo          Fowler      20                      \n",
      "251          Vickie      Brewer      31                      \n",
      "252          Mattie      Hoffman     22                      \n",
      "253          Terry       Carlson     29                      \n",
      "254          Maxine      Silva       32                      \n",
      "255          Irma        Pearson     18                      \n",
      "256          Mabel       Holland     30                      \n",
      "257          Marsha      Douglas     37                      \n",
      "258          Myrtle      Fleming     24                      \n",
      "259          Lena        Jensen      32                      \n",
      "260          Christy     Vargas      31                      \n",
      "261          Deanna      Byrd        26                      \n",
      "262          Patsy       Davidson    28                      \n",
      "263          Hilda       Hopkins     29                      \n",
      "264          Gwendolyn   May         25                      \n",
      "265          Jennie      Terry       29                      \n",
      "266          Nora        Herrera     28                      \n",
      "267          Margie      Wade        36                      \n",
      "268          Nina        Soto        29                      \n",
      "269          Cassandra   Walters     30                      \n",
      "270          Leah        Curtis      25                      \n",
      "271          Penny       Neal        18                      \n",
      "272          Kay         Caldwell    20                      \n",
      "273          Priscilla   Lowe        35                      \n",
      "274          Naomi       Jennings    35                      \n",
      "275          Carole      Barnett     30                      \n",
      "276          Brandy      Graves      28                      \n",
      "277          Olga        Jimenez     32                      \n",
      "278          Billie      Horton      26                      \n",
      "279          Dianne      Shelton     31                      \n",
      "280          Tracey      Barrett     27                      \n",
      "281          Leona       Obrien      14                      \n",
      "282          Jenny       Castro      27                      \n",
      "283          Felicia     Sutton      28                      \n",
      "284          Sonia       Gregory     28                      \n",
      "285          Miriam      Mckinney    26                      \n",
      "286          Velma       Lucas       27                      \n",
      "287          Becky       Miles       29                      \n",
      "288          Bobbie      Craig       24                      \n",
      "289          Violet      Rodriquez   30                      \n",
      "290          Kristina    Chambers    28                      \n",
      "291          Toni        Holt        23                      \n",
      "292          Misty       Lambert     27                      \n",
      "293          Mae         Fletcher    31                      \n",
      "294          Shelly      Watts       26                      \n",
      "295          Daisy       Bates       38                      \n",
      "296          Ramona      Hale        30                      \n",
      "297          Sherri      Rhodes      33                      \n",
      "298          Erika       Pena        26                      \n",
      "299          James       Gannon      30                      \n",
      "300          John        Farnsworth  31                      \n",
      "301          Robert      Baughman    21                      \n",
      "302          Michael     Silverman   29                      \n",
      "303          William     Satterfiel  26                      \n",
      "304          David       Royal       26                      \n",
      "305          Richard     Mccrary     25                      \n",
      "306          Charles     Kowalski    32                      \n",
      "307          Joseph      Joy         30                      \n",
      "308          Thomas      Grigsby     25                      \n",
      "309          Christophe  Greco       31                      \n",
      "310          Daniel      Cabral      20                      \n",
      "311          Paul        Trout       23                      \n",
      "312          Mark        Rinehart    26                      \n",
      "313          Donald      Mahon       23                      \n",
      "314          George      Linton      33                      \n",
      "315          Kenneth     Gooden      17                      \n",
      "316          Steven      Curley      29                      \n",
      "317          Edward      Baugh       28                      \n",
      "318          Brian       Wyman       12                      \n",
      "319          Ronald      Weiner      30                      \n",
      "320          Anthony     Schwab      20                      \n",
      "321          Kevin       Schuler     22                      \n",
      "322          Jason       Morrissey   28                      \n",
      "323          Matthew     Mahan       31                      \n",
      "324          Gary        Coy         25                      \n",
      "325          Timothy     Bunn        22                      \n",
      "326          Jose        Andrew      25                      \n",
      "327          Larry       Thrasher    26                      \n",
      "328          Jeffrey     Spear       23                      \n",
      "329          Frank       Waggoner    32                      \n",
      "330          Scott       Shelley     25                      \n",
      "331          Eric        Robert      27                      \n",
      "332          Stephen     Qualls      28                      \n",
      "333          Andrew      Purdy       27                      \n",
      "334          Raymond     Mcwhorter   30                      \n",
      "335          Gregory     Mauldin     23                      \n",
      "336          Joshua      Mark        30                      \n",
      "337          Jerry       Jordon      29                      \n",
      "338          Dennis      Gilman      28                      \n",
      "339          Walter      Perryman    30                      \n",
      "340          Patrick     Newsom      31                      \n",
      "341          Peter       Menard      23                      \n",
      "342          Harold      Martino     32                      \n",
      "343          Douglas     Graf        25                      \n",
      "344          Henry       Billingsle  18                      \n",
      "345          Carl        Artis       23                      \n",
      "346          Arthur      Simpkins    32                      \n",
      "347          Ryan        Salisbury   30                      \n",
      "348          Roger       Quintanill  36                      \n",
      "349          Joe         Gilliland   29                      \n",
      "350          Juan        Fraley      23                      \n",
      "351          Jack        Foust       24                      \n",
      "352          Albert      Crouse      23                      \n",
      "353          Jonathan    Scarboroug  18                      \n",
      "354          Justin      Ngo         36                      \n",
      "355          Terry       Grissom     20                      \n",
      "356          Gerald      Fultz       30                      \n",
      "357          Keith       Rico        26                      \n",
      "358          Samuel      Marlow      21                      \n",
      "359          Willie      Markham     25                      \n",
      "360          Ralph       Madrigal    34                      \n",
      "361          Lawrence    Lawton      31                      \n",
      "362          Nicholas    Barfield    32                      \n",
      "363          Roy         Whiting     29                      \n",
      "364          Benjamin    Varney      23                      \n",
      "365          Bruce       Schwarz     23                      \n",
      "366          Brandon     Huey        37                      \n",
      "367          Adam        Gooch       22                      \n",
      "368          Harry       Arce        35                      \n",
      "369          Fred        Wheat       25                      \n",
      "370          Wayne       Truong      19                      \n",
      "371          Billy       Poulin      35                      \n",
      "372          Steve       Mackenzie   34                      \n",
      "373          Louis       Leone       35                      \n",
      "374          Jeremy      Hurtado     28                      \n",
      "375          Aaron       Selby       24                      \n",
      "376          Randy       Gaither     28                      \n",
      "377          Howard      Fortner     26                      \n",
      "378          Eugene      Culpepper   19                      \n",
      "379          Carlos      Coughlin    23                      \n",
      "380          Russell     Brinson     36                      \n",
      "381          Bobby       Boudreau    35                      \n",
      "382          Victor      Barkley     24                      \n",
      "383          Martin      Bales       27                      \n",
      "384          Ernest      Stepp       25                      \n",
      "385          Phillip     Holm        26                      \n",
      "386          Todd        Tan         29                      \n",
      "387          Jesse       Schilling   26                      \n",
      "388          Craig       Morrell     30                      \n",
      "389          Alan        Kahn        26                      \n",
      "390          Shawn       Heaton      33                      \n",
      "391          Clarence    Gamez       30                      \n",
      "392          Sean        Douglass    23                      \n",
      "393          Philip      Causey      31                      \n",
      "394          Chris       Brothers    22                      \n",
      "395          Johnny      Turpin      19                      \n",
      "396          Earl        Shanks      27                      \n",
      "397          Jimmy       Schrader    29                      \n",
      "398          Antonio     Meek        16                      \n",
      "399          Danny       Isom        21                      \n",
      "400          Bryan       Hardison    28                      \n",
      "401          Tony        Carranza    21                      \n",
      "402          Luis        Yanez       20                      \n",
      "403          Mike        Way         35                      \n",
      "404          Stanley     Scroggins   30                      \n",
      "405          Leonard     Schofield   32                      \n",
      "406          Nathan      Runyon      32                      \n",
      "407          Dale        Ratcliff    27                      \n",
      "408          Manuel      Murrell     30                      \n",
      "409          Rodney      Moeller     23                      \n",
      "410          Curtis      Irby        38                      \n",
      "411          Norman      Currier     26                      \n",
      "412          Allen       Butterfiel  21                      \n",
      "413          Marvin      Yee         21                      \n",
      "414          Vincent     Ralston     25                      \n",
      "415          Glenn       Pullen      23                      \n",
      "416          Jeffery     Pinson      31                      \n",
      "417          Travis      Estep       25                      \n",
      "418          Jeff        East        30                      \n",
      "419          Chad        Carbone     25                      \n",
      "420          Jacob       Lance       21                      \n",
      "421          Lee         Hawks       27                      \n",
      "422          Melvin      Ellington   26                      \n",
      "423          Alfred      Casillas    26                      \n",
      "424          Kyle        Spurlock    30                      \n",
      "425          Francis     Sikes       26                      \n",
      "426          Bradley     Motley      27                      \n",
      "427          Jesus       Mccartney   24                      \n",
      "428          Herbert     Kruger      20                      \n",
      "429          Frederick   Isbell      21                      \n",
      "430          Ray         Houle       22                      \n",
      "431          Joel        Francisco   23                      \n",
      "432          Edwin       Burk        23                      \n",
      "433          Don         Bone        25                      \n",
      "434          Eddie       Tomlin      27                      \n",
      "435          Ricky       Shelby      25                      \n",
      "436          Troy        Quigley     30                      \n",
      "437          Randall     Neumann     23                      \n",
      "438          Barry       Lovelace    33                      \n",
      "439          Alexander   Fennell     36                      \n",
      "440          Bernard     Colby       22                      \n",
      "441          Mario       Cheatham    28                      \n",
      "442          Leroy       Bustamante  32                      \n",
      "443          Francisco   Skidmore    22                      \n",
      "444          Marcus      Hidalgo     30                      \n",
      "445          Micheal     Forman      26                      \n",
      "446          Theodore    Culp        31                      \n",
      "447          Clifford    Bowens      29                      \n",
      "448          Miguel      Betancourt  29                      \n",
      "449          Oscar       Aquino      20                      \n",
      "450          Jay         Robb        26                      \n",
      "451          Jim         Rea         33                      \n",
      "452          Tom         Milner      32                      \n",
      "453          Calvin      Martel      23                      \n",
      "454          Alex        Gresham     33                      \n",
      "455          Jon         Wiles       24                      \n",
      "456          Ronnie      Ricketts    25                      \n",
      "457          Bill        Gavin       28                      \n",
      "458          Lloyd       Dowd        19                      \n",
      "459          Tommy       Collazo     38                      \n",
      "460          Leon        Bostic      25                      \n",
      "461          Derek       Blakely     28                      \n",
      "462          Warren      Sherrod     33                      \n",
      "463          Darrell     Power       25                      \n",
      "464          Jerome      Kenyon      16                      \n",
      "465          Floyd       Gandy       17                      \n",
      "466          Leo         Ebert       23                      \n",
      "467          Alvin       Deloach     29                      \n",
      "468          Tim         Cary        39                      \n",
      "469          Wesley      Bull        40                      \n",
      "470          Gordon      Allard      32                      \n",
      "471          Dean        Sauer       27                      \n",
      "472          Greg        Robins      30                      \n",
      "473          Jorge       Olivares    34                      \n",
      "474          Dustin      Gillette    26                      \n",
      "475          Pedro       Chestnut    24                      \n",
      "476          Derrick     Bourque     22                      \n",
      "477          Dan         Paine       22                      \n",
      "478          Lewis       Lyman       19                      \n",
      "479          Zachary     Hite        31                      \n",
      "480          Corey       Hauser      22                      \n",
      "481          Herman      Devore      29                      \n",
      "482          Maurice     Crawley     29                      \n",
      "483          Vernon      Chapa       18                      \n",
      "484          Roberto     Vu          30                      \n",
      "485          Clyde       Tobias      29                      \n",
      "486          Glen        Talbert     26                      \n",
      "487          Hector      Poindexter  26                      \n",
      "488          Shane       Millard     22                      \n",
      "489          Ricardo     Meador      21                      \n",
      "490          Sam         Mcduffie    24                      \n",
      "491          Rick        Mattox      27                      \n",
      "492          Lester      Kraus       16                      \n",
      "493          Brent       Harkins     23                      \n",
      "494          Ramon       Choate      31                      \n",
      "495          Charlie     Bess        26                      \n",
      "496          Tyler       Wren        21                      \n",
      "497          Gilbert     Sledge      28                      \n",
      "498          Gene        Sanborn     27                      \n",
      "499          Marc        Outlaw      30                      \n",
      "500          Reginald    Kinder      28                      \n",
      "501          Ruben       Geary       21                      \n",
      "502          Brett       Cornwell    34                      \n",
      "503          Angel       Barclay     32                      \n",
      "504          Nathaniel   Adam        28                      \n",
      "505          Rafael      Abney       21                      \n",
      "506          Leslie      Seward      35                      \n",
      "507          Edgar       Rhoads      25                      \n",
      "508          Milton      Howland     25                      \n",
      "509          Raul        Fortier     20                      \n",
      "510          Ben         Easter      26                      \n",
      "511          Chester     Benner      24                      \n",
      "512          Cecil       Vines       26                      \n",
      "513          Duane       Tubbs       31                      \n",
      "514          Franklin    Troutman    22                      \n",
      "515          Andre       Rapp        28                      \n",
      "516          Elmer       Noe         26                      \n",
      "517          Brad        Mccurdy     25                      \n",
      "518          Gabriel     Harder      26                      \n",
      "519          Ron         Deluca      23                      \n",
      "520          Mitchell    Westmorela  32                      \n",
      "521          Roland      South       23                      \n",
      "522          Arnold      Havens      33                      \n",
      "523          Harvey      Guajardo    22                      \n",
      "524          Jared       Ely         19                      \n",
      "525          Adrian      Clary       19                      \n",
      "526          Karl        Seal        45                      \n",
      "527          Cory        Meehan      24                      \n",
      "528          Claude      Herzog      25                      \n",
      "529          Erik        Guillen     29                      \n",
      "530          Darryl      Ashcraft    23                      \n",
      "531          Jamie       Waugh       25                      \n",
      "532          Neil        Renner      32                      \n",
      "533          Jessie      Milam       33                      \n",
      "534          Christian   Jung        24                      \n",
      "535          Javier      Elrod       32                      \n",
      "536          Fernando    Churchill   25                      \n",
      "537          Clinton     Buford      25                      \n",
      "538          Ted         Breaux      29                      \n",
      "539          Mathew      Bolin       22                      \n",
      "540          Tyrone      Asher       24                      \n",
      "541          Darren      Windham     24                      \n",
      "542          Lonnie      Tirado      18                      \n",
      "543          Lance       Pemberton   22                      \n",
      "544          Cody        Nolen       22                      \n",
      "545          Julio       Noland      21                      \n",
      "546          Kelly       Knott       25                      \n",
      "547          Kurt        Emmons      23                      \n",
      "548          Allan       Cornish     19                      \n",
      "549          Nelson      Christenso  20                      \n",
      "550          Guy         Brownlee    32                      \n",
      "551          Clayton     Barbee      26                      \n",
      "552          Hugh        Waldrop     21                      \n",
      "553          Max         Pitt        24                      \n",
      "554          Dwayne      Olvera      22                      \n",
      "555          Dwight      Lombardi    17                      \n",
      "556          Armando     Gruber      21                      \n",
      "557          Felix       Gaffney     24                      \n",
      "558          Jimmie      Eggleston   28                      \n",
      "559          Everett     Banda       28                      \n",
      "560          Jordan      Archuleta   30                      \n",
      "561          Ian         Still       27                      \n",
      "562          Wallace     Slone       25                      \n",
      "563          Ken         Prewitt     29                      \n",
      "564          Bob         Pfeiffer    24                      \n",
      "565          Jaime       Nettles     29                      \n",
      "566          Casey       Mena        34                      \n",
      "567          Alfredo     Mcadams     20                      \n",
      "568          Alberto     Henning     21                      \n",
      "569          Dave        Gardiner    32                      \n",
      "570          Ivan        Cromwell    26                      \n",
      "571          Johnnie     Chisholm    24                      \n",
      "572          Sidney      Burleson    25                      \n",
      "573          Byron       Box         29                      \n",
      "574          Julian      Vest        28                      \n",
      "575          Isaac       Oglesby     29                      \n",
      "576          Morris      Mccarter    34                      \n",
      "577          Clifton     Malcolm     27                      \n",
      "578          Willard     Lumpkin     22                      \n",
      "579          Daryl       Larue       27                      \n",
      "580          Ross        Grey        27                      \n",
      "581          Virgil      Wofford     27                      \n",
      "582          Andy        Vanhorn     25                      \n",
      "583          Marshall    Thorn       23                      \n",
      "584          Salvador    Teel        30                      \n",
      "585          Perry       Swafford    24                      \n",
      "586          Kirk        Stclair     19                      \n",
      "587          Sergio      Stanfield   26                      \n",
      "588          Marion      Ocampo      29                      \n",
      "589          Tracy       Herrmann    28                      \n",
      "590          Seth        Hannon      25                      \n",
      "591          Kent        Arsenault   27                      \n",
      "592          Terrance    Roush       29                      \n",
      "593          Rene        Mcalister   26                      \n",
      "594          Eduardo     Hiatt       27                      \n",
      "595          Terrence    Gunderson   30                      \n",
      "596          Enrique     Forsythe    28                      \n",
      "597          Freddie     Duggan      25                      \n",
      "598          Wade        Delvalle    22                      \n",
      "599          Austin      Cintron     19                      \n"
     ]
    }
   ],
   "source": [
    "! sqlite3 sakila211.db \"select  customer_id , first_name,last_name, count(customer_id) as number_of_film_they_rent from customer join rental using(customer_id) group by customer_id\""
   ]
  },
  {
   "cell_type": "markdown",
   "metadata": {},
   "source": [
    "(15) How many films did the customer named Smith rent?  &nbsp; &nbsp; [`customer`, `rental`]"
   ]
  },
  {
   "cell_type": "code",
   "execution_count": null,
   "metadata": {
    "collapsed": false,
    "deletable": false,
    "nbgrader": {
     "checksum": "acd6a44d97465509b36dc321fb726224",
     "grade": true,
     "grade_id": "query_15",
     "locked": false,
     "points": 3,
     "solution": true
    }
   },
   "outputs": [],
   "source": [
    "! sqlite3 sakila211.db \"select   count(customer_id) as number_of_Smith_rent  from customer  join rental  using(customer_id) where last_name = 'Smith' group by customer_id\""
   ]
  },
  {
   "cell_type": "markdown",
   "metadata": {},
   "source": [
    "(16) Which customers have not returned films (*i.e.* the return_date field in the rental table is null)?  &nbsp; &nbsp; [`customer`, `rental`]"
   ]
  },
  {
   "cell_type": "code",
   "execution_count": null,
   "metadata": {
    "collapsed": false,
    "deletable": false,
    "nbgrader": {
     "checksum": "bcf1ed821747656bbc8e38355aca630f",
     "grade": true,
     "grade_id": "query_16",
     "locked": false,
     "points": 3,
     "solution": true
    }
   },
   "outputs": [],
   "source": [
    "! sqlite3 sakila211.db \"select   first_name,last_name, count(customer_id) as number_of_films_did_not_return from customer  join rental  using(customer_id) where return_date is null group by customer_id\""
   ]
  },
  {
   "cell_type": "markdown",
   "metadata": {},
   "source": [
    "(17) Which actors starred in “Splash Gump”?  &nbsp; &nbsp; [`film`, `film_actor`, `actor`]"
   ]
  },
  {
   "cell_type": "code",
   "execution_count": null,
   "metadata": {
    "collapsed": false,
    "deletable": false,
    "nbgrader": {
     "checksum": "62934f2def9ff51a7b7eb88292c4c069",
     "grade": true,
     "grade_id": "query_17",
     "locked": false,
     "points": 4,
     "solution": true
    }
   },
   "outputs": [],
   "source": [
    "! sqlite3 sakila211.db \"select first_name,last_name from film join film_actor using(film_id)join actor  using(actor_id) where title='Splash Gump' group by actor_id  \""
   ]
  },
  {
   "cell_type": "markdown",
   "metadata": {},
   "source": [
    "(18) Which films has Penelope Guiness starred in?  &nbsp; &nbsp; [`film`, `film_actor`, `actor`]"
   ]
  },
  {
   "cell_type": "code",
   "execution_count": 43,
   "metadata": {
    "collapsed": false,
    "deletable": false,
    "nbgrader": {
     "checksum": "d811e1e64a3a28da4103f0adb698f866",
     "grade": true,
     "grade_id": "query_18",
     "locked": false,
     "points": 4,
     "solution": true
    }
   },
   "outputs": [
    {
     "name": "stdout",
     "output_type": "stream",
     "text": [
      "-- Loading resources from /Users/Andyfish/.sqliterc\n",
      "\n",
      "title             \n",
      "------------------\n",
      "Wizard Coldblooded\n",
      "United Pilot      \n",
      "Wind Phantom      \n"
     ]
    }
   ],
   "source": [
    "! sqlite3 sakila211.db \"select title from film join film_actor using(film_id)join actor \\\n",
    "using(actor_id) where last_name='Guiness' group by actor_id  \""
   ]
  },
  {
   "cell_type": "markdown",
   "metadata": {},
   "source": [
    "(19) What are the names of the films rented by the customer named Knight?  &nbsp; &nbsp; [`customer`, `rental`, `inventory`, `film`]"
   ]
  },
  {
   "cell_type": "code",
   "execution_count": 44,
   "metadata": {
    "collapsed": false,
    "deletable": false,
    "nbgrader": {
     "checksum": "66ea5f83cfdb46127212f07cc8dfa1aa",
     "grade": true,
     "grade_id": "query_19",
     "locked": false,
     "points": 4,
     "solution": true
    }
   },
   "outputs": [
    {
     "name": "stdout",
     "output_type": "stream",
     "text": [
      "-- Loading resources from /Users/Andyfish/.sqliterc\r\n",
      "\r\n",
      "title        \r\n",
      "-------------\r\n",
      "Jericho Mulan\r\n",
      "Frost Head   \r\n",
      "Clerks Angels\r\n",
      "Wife Turn    \r\n",
      "Expecations N\r\n",
      "Lawless Visio\r\n",
      "Soup Wisdom  \r\n",
      "Heartbreakers\r\n",
      "Bikini Borrow\r\n",
      "Attacks Hate \r\n",
      "Cupboard Sinn\r\n",
      "Princess Gian\r\n",
      "Cyclone Famil\r\n",
      "Platoon Insti\r\n",
      "Knock Warlock\r\n",
      "Excitement Ev\r\n",
      "Right Cranes \r\n",
      "Hyde Doctor  \r\n",
      "Fatal Haunted\r\n",
      "Chasing Fight\r\n",
      "Falcon Volume\r\n",
      "Tomorrow Hust\r\n",
      "Half Outfield\r\n",
      "Horror Reign \r\n",
      "Borrowers Bed\r\n"
     ]
    }
   ],
   "source": [
    "! sqlite3 sakila211.db \"select title from film join inventory using(film_id) join rental using(inventory_id) join customer using(customer_id) where last_name='Knight'  \""
   ]
  },
  {
   "cell_type": "markdown",
   "metadata": {},
   "source": [
    "## <span style=\"color:teal\">Part 3: &nbsp; Monthly Report</span>"
   ]
  },
  {
   "cell_type": "markdown",
   "metadata": {},
   "source": [
    "For this part of the project you will write a report generator that will print a summary of monthly activity for a customer.  The report should show a list of all the films rented during the month along with a total amount due.\n",
    "This example shows the activity for the customer named Leo Ebert for the month of June, 2005.\n",
    "\n",
    "<pre>\n",
    "--- Sakila DVD Rentals ---\n",
    "\n",
    "Monthly Report for Leo Ebert \n",
    "\n",
    "Lonely Elephant                 06/16/2005    $2.99\n",
    "                   ** late fee  06/24/2005    $2.99\n",
    "Enemy Odds                      06/18/2005    $4.99\n",
    "                   ** late fee  06/27/2005    $4.99\n",
    "Song Hedwig                     06/20/2005    $0.99\n",
    "                   ** late fee  06/26/2005    $0.99\n",
    "Wash Heavenly                   06/21/2005    $4.99\n",
    "Hurricane Affair                06/21/2005    $2.99\n",
    "\n",
    "Monthly Total:  $25.92\n",
    "</pre>\n",
    "\n",
    "To compute the total, the report generator needs to add up all the rental fees, and for any film returned late, add an additional rental fee as the late charge. In the example, Leo rented *Lonely Elephant* on June 16 but didn’t return it until June 24. It was a 3-day rental, so he was charged an additional \\$2.99 (it was 5 days late, so we could have charged him \\$4.98 in late fees, but we’ll keep it simple and just charge the basic fee as the late fee).\n",
    "\n",
    "We've broken the problem into separate parts so they can be implemented and tested separately.  Your job is to fill in the code cells so each part passes the auto-grader tests.\n",
    "\n",
    "**Note:** &nbsp; There is no documentation requirement for this project."
   ]
  },
  {
   "cell_type": "markdown",
   "metadata": {},
   "source": [
    "### <span style=\"color:teal\">Database Connection</span>"
   ]
  },
  {
   "cell_type": "markdown",
   "metadata": {},
   "source": [
    "To simplify the code for this program you can define the database connection as a global variable.  The following code cell imports the libraries you need and defines the database connection."
   ]
  },
  {
   "cell_type": "code",
   "execution_count": 674,
   "metadata": {
    "collapsed": true
   },
   "outputs": [],
   "source": [
    "from sqlite3 import connect\n",
    "\n",
    "db = connect('sakila211.db')"
   ]
  },
  {
   "cell_type": "markdown",
   "metadata": {},
   "source": [
    "### <span style=\"color:teal\">Dates</span>"
   ]
  },
  {
   "cell_type": "markdown",
   "metadata": {},
   "source": [
    "Dates in a SQLite database are stored as strings.  The function below uses a Python library named `datetime` to parse a date string and return a string that can be printed as part of the report.  Read the online documentation for the `datetime` module if you want to learn more about date formats and functions that parse and format dates.\n",
    "\n",
    "**Note:** &nbsp; The format string is a global variable -- you can use this same format in your function that checks to see if a CD is overdue."
   ]
  },
  {
   "cell_type": "code",
   "execution_count": 675,
   "metadata": {
    "collapsed": true
   },
   "outputs": [],
   "source": [
    "from datetime import datetime\n",
    "\n",
    "date_format = \"%Y-%m-%d %H:%M:%S.%f\"\n",
    "\n",
    "def mmddyyyy(date):\n",
    "    d = datetime.strptime(date, date_format)\n",
    "    return '{:02d}/{:02d}/{:02d}'.format(d.month, d.day, d.year)"
   ]
  },
  {
   "cell_type": "code",
   "execution_count": 676,
   "metadata": {
    "collapsed": false
   },
   "outputs": [],
   "source": [
    "assert mmddyyyy('2005-02-26 20:59:35.000') == '02/26/2005'"
   ]
  },
  {
   "cell_type": "code",
   "execution_count": 677,
   "metadata": {
    "collapsed": false
   },
   "outputs": [],
   "source": [
    "d=mmddyyyy('2005-02-26 20:59:35.000') \n"
   ]
  },
  {
   "cell_type": "markdown",
   "metadata": {},
   "source": [
    "### <span style=\"color:teal\">Customer Name</span>"
   ]
  },
  {
   "cell_type": "markdown",
   "metadata": {},
   "source": [
    "Fill in the definition of the `customer_name` function.  It will be passed a string with a last name, and it should return a list of tuples of the form `(first, last)` with the first and last names of all customers with the same last name.  If there are no customers with that name the list should be empty."
   ]
  },
  {
   "cell_type": "code",
   "execution_count": 678,
   "metadata": {
    "collapsed": false,
    "deletable": false,
    "nbgrader": {
     "checksum": "e70c884e18f10012edb52e87d2719697",
     "grade": true,
     "grade_id": "customer_name",
     "locked": false,
     "points": 4,
     "solution": true
    }
   },
   "outputs": [],
   "source": [
    "def customer_names(s):\n",
    "    \n",
    "    query = \"select first_name, last_name from customer where last_name like ?\"\n",
    "    result = db.execute(query,(s,))\n",
    "    return result.fetchall()\n",
    "\n",
    "    "
   ]
  },
  {
   "cell_type": "code",
   "execution_count": null,
   "metadata": {
    "collapsed": false
   },
   "outputs": [],
   "source": [
    "\n"
   ]
  },
  {
   "cell_type": "markdown",
   "metadata": {},
   "source": [
    "##### <span style=\"color:red\">Autograder Tests:</span>"
   ]
  },
  {
   "cell_type": "markdown",
   "metadata": {},
   "source": [
    "**Do not edit, copy, or delete these cells.**"
   ]
  },
  {
   "cell_type": "code",
   "execution_count": 679,
   "metadata": {
    "collapsed": false,
    "deletable": false,
    "nbgrader": {
     "checksum": "a058825c6ac9ee1512975bf08b53f5e2",
     "grade": true,
     "grade_id": "cname_1",
     "locked": true,
     "points": 2,
     "solution": false
    }
   },
   "outputs": [],
   "source": [
    "assert customer_names('ebert') == [('Leo', 'Ebert')]"
   ]
  },
  {
   "cell_type": "code",
   "execution_count": 680,
   "metadata": {
    "collapsed": false,
    "deletable": false,
    "nbgrader": {
     "checksum": "8368cbc5b9882ede9ad70397eec55502",
     "grade": true,
     "grade_id": "cname_2",
     "locked": true,
     "points": 2,
     "solution": false
    }
   },
   "outputs": [],
   "source": [
    "assert customer_names('smith') == [('Mary', 'Smith')]"
   ]
  },
  {
   "cell_type": "code",
   "execution_count": 681,
   "metadata": {
    "collapsed": true,
    "deletable": false,
    "nbgrader": {
     "checksum": "898903e3d3e5b92bea1199d595596f78",
     "grade": true,
     "grade_id": "cname_3",
     "locked": true,
     "points": 2,
     "solution": false
    }
   },
   "outputs": [],
   "source": [
    "assert customer_names('turing') == []"
   ]
  },
  {
   "cell_type": "markdown",
   "metadata": {},
   "source": [
    "### <span style=\"color:teal\">Film List</span>"
   ]
  },
  {
   "cell_type": "markdown",
   "metadata": {},
   "source": [
    "Fill in the body of the `film_list` function so it returns a list of all CDs rented by a customer during a specified month. \n",
    "The parameters that will be passed to the function are the customer's last name (a string) and the month and year (both integers).  Return a list of tuples that have the following values, in the order shown:\n",
    "* film title\n",
    "* rental rate (how much it costs to rent the CD)\n",
    "* rental date (the date the CD was rented)\n",
    "* return date (the date the CD was returned)\n",
    "* rental duration (the number of days the CD can be out before a late fee is charged) \n",
    "\n",
    "All of the information you need can be retrieved with a single query that joins the rental, inventory, film, and customer tables. Note that this is the same query used to answer Question 19 above, except with different column names.\n",
    "\n",
    "**Hint:** &nbsp; The dates in the database are strings.  Think about pattern matching when you write the WHERE clause that specifies the date range.\n"
   ]
  },
  {
   "cell_type": "code",
   "execution_count": 682,
   "metadata": {
    "collapsed": true,
    "deletable": false,
    "nbgrader": {
     "checksum": "f088858c2cd4711c5ab68e68cb012b98",
     "grade": true,
     "grade_id": "film_list",
     "locked": false,
     "points": 6,
     "solution": true
    }
   },
   "outputs": [],
   "source": [
    "def film_list(name, month, year):\n",
    "    name=name.title()\n",
    "    a=[]\n",
    "    L='{:02d}-{:02d}-{:02d} 00:00:00:000'.format(year, month,1)\n",
    "    R='{:02d}-{:02d}-{:02d} 23:59:59:999'.format(year,month,31)\n",
    "    query = \"select title, rental_rate, rental_date, return_date, rental_duration \\\n",
    "    from film join inventory using(film_id) join rental using(inventory_id) join customer using(customer_id) where last_name = ? and rental_date > ? and rental_date< ?\"\n",
    "    result= db.execute(query,(name,L,R))\n",
    "    \n",
    "    return [i for i in result]\n",
    "        "
   ]
  },
  {
   "cell_type": "code",
   "execution_count": 683,
   "metadata": {
    "collapsed": false
   },
   "outputs": [
    {
     "data": {
      "text/plain": [
       "[('Lonely Elephant',\n",
       "  2.99,\n",
       "  '2005-06-16 20:59:35.000',\n",
       "  '2005-06-24 15:31:35.000',\n",
       "  3),\n",
       " ('Enemy Odds', 4.99, '2005-06-18 19:04:41.000', '2005-06-27 17:10:41.000', 5),\n",
       " ('Song Hedwig',\n",
       "  0.99,\n",
       "  '2005-06-20 11:17:20.000',\n",
       "  '2005-06-26 13:15:20.000',\n",
       "  3),\n",
       " ('Wash Heavenly',\n",
       "  4.99,\n",
       "  '2005-06-21 02:47:56.000',\n",
       "  '2005-06-27 03:16:56.000',\n",
       "  7),\n",
       " ('Hurricane Affair',\n",
       "  2.99,\n",
       "  '2005-06-21 10:56:59.000',\n",
       "  '2005-06-25 16:41:59.000',\n",
       "  6)]"
      ]
     },
     "execution_count": 683,
     "metadata": {},
     "output_type": "execute_result"
    }
   ],
   "source": [
    "film_list('Ebert', 6, 2005)\n"
   ]
  },
  {
   "cell_type": "markdown",
   "metadata": {},
   "source": [
    "##### <span style=\"color:red\">Autograder Tests:</span>"
   ]
  },
  {
   "cell_type": "markdown",
   "metadata": {},
   "source": [
    "**Do not edit, copy, or delete these cells.**"
   ]
  },
  {
   "cell_type": "code",
   "execution_count": 547,
   "metadata": {
    "collapsed": false,
    "deletable": false,
    "nbgrader": {
     "checksum": "ecda577b6149a8ba1c87959857708ffe",
     "grade": true,
     "grade_id": "film_1",
     "locked": true,
     "points": 2,
     "solution": false
    }
   },
   "outputs": [],
   "source": [
    "leo = film_list('Ebert', 6, 2005)\n",
    "assert len(leo) == 5\n",
    "assert leo[0] == (('Lonely Elephant', 2.99, '2005-06-16 20:59:35.000', '2005-06-24 15:31:35.000', 3))"
   ]
  },
  {
   "cell_type": "code",
   "execution_count": 548,
   "metadata": {
    "collapsed": false,
    "deletable": false,
    "nbgrader": {
     "checksum": "bb03a0a830f1591b9770aa54a841b5aa",
     "grade": true,
     "grade_id": "film_2",
     "locked": true,
     "points": 2,
     "solution": false
    }
   },
   "outputs": [],
   "source": [
    "mary = film_list('Smith', 8, 2005)\n",
    "assert len(mary) == 11\n",
    "assert mary[0] == ('Adaptation Holes', 2.99, '2005-08-01 08:51:04.000', '2005-08-10 12:12:04.000', 7)"
   ]
  },
  {
   "cell_type": "markdown",
   "metadata": {},
   "source": [
    "### <span style=\"color:teal\">Overdue CDs</span>"
   ]
  },
  {
   "cell_type": "markdown",
   "metadata": {},
   "source": [
    "To decide whether a CD was returned late you need to subtract the rental date from the return date and see if the difference is greater than the rental duration. The easiest way to do this is to use Python’s `datetime` library.\n",
    "\n",
    "Using a call to `strptime` (see the body of the `mmddyyyy` function defined above) create `datetime` objects for the rental date and the return date. Then subtract the rental date from the return date to get a `timedelta` object:\n",
    "```\n",
    "    diff = returned - rented\n",
    "```\n",
    "Now you can get attributes of the object named `diff` to tell you how far apart the dates were, for example `diff.days` will tell you the time difference in days.\n",
    "\n",
    "Fill in the body of the `overdue` function.  The parameters are a rental date, a return date, and the rental duration.  Return TRUE if the CD was not returned or if the number of days it was checked out is greater than the rental duration."
   ]
  },
  {
   "cell_type": "code",
   "execution_count": 549,
   "metadata": {
    "collapsed": false,
    "deletable": false,
    "nbgrader": {
     "checksum": "c323f797a07a6c9b3735ad8edf1d3421",
     "grade": true,
     "grade_id": "overdue",
     "locked": false,
     "points": 4,
     "solution": true
    }
   },
   "outputs": [],
   "source": [
    "def overdue(rent_date, return_date, duration):\n",
    "    date_format = \"%Y-%m-%d %H:%M:%S.%f\"\n",
    "\n",
    "    \n",
    "    ren = datetime.strptime(rent_date,date_format)\n",
    "    ret = datetime.strptime(return_date,date_format)\n",
    "    diff=ret-ren\n",
    "    \n",
    "    if diff.days >duration :\n",
    "        return True\n",
    "    \n",
    "    "
   ]
  },
  {
   "cell_type": "code",
   "execution_count": 550,
   "metadata": {
    "collapsed": false
   },
   "outputs": [
    {
     "data": {
      "text/plain": [
       "True"
      ]
     },
     "execution_count": 550,
     "metadata": {},
     "output_type": "execute_result"
    }
   ],
   "source": [
    "overdue('2005-06-16 20:59:35.000', '2005-06-24 15:31:35.000', 3)"
   ]
  },
  {
   "cell_type": "code",
   "execution_count": 551,
   "metadata": {
    "collapsed": false,
    "deletable": false,
    "nbgrader": {
     "checksum": "80d794c42ab8cce996954fd9b03c3ab3",
     "grade": true,
     "grade_id": "overdue_1",
     "locked": true,
     "points": 2,
     "solution": false
    }
   },
   "outputs": [],
   "source": [
    "assert overdue('2005-06-16 20:59:35.000', '2005-06-19 20:59:35.000', 2)"
   ]
  },
  {
   "cell_type": "code",
   "execution_count": 552,
   "metadata": {
    "collapsed": false,
    "deletable": false,
    "nbgrader": {
     "checksum": "765469f430365b95790c1fc6ca19f4c8",
     "grade": true,
     "grade_id": "overdue_2",
     "locked": true,
     "points": 2,
     "solution": false
    }
   },
   "outputs": [],
   "source": [
    "assert not overdue('2005-06-16 20:59:35.000', '2005-06-17 20:59:35.000', 2)"
   ]
  },
  {
   "cell_type": "code",
   "execution_count": 553,
   "metadata": {
    "collapsed": false,
    "deletable": false,
    "nbgrader": {
     "checksum": "05f3f9c7bd7551799d290730dbebb1fe",
     "grade": true,
     "grade_id": "overdue_3",
     "locked": true,
     "points": 2,
     "solution": false
    }
   },
   "outputs": [],
   "source": [
    "assert not overdue('2005-06-16 20:59:35.000', '2005-06-19 20:59:34.000', 2)"
   ]
  },
  {
   "cell_type": "markdown",
   "metadata": {},
   "source": [
    "### <span style=\"color:teal\">Report Generator</span>"
   ]
  },
  {
   "cell_type": "markdown",
   "metadata": {},
   "source": [
    "Fill in the body of the function named `sakila_report` so it prints a monthly report.  The arguments passed to the function will be a customer's last name (a string) and a month and year (both integers).\n",
    "\n",
    "If the customer is not in the database, or if there are two customers with the same last name, return None.  Otherwise print a list of films and late fees and the total amount due.\n",
    "\n",
    "You can format the report however you would like, as long as the following items appear somewhere in the output:\n",
    "* every fee should be printed with a dollar sign and an amount, for example `$2.99` or `25.92`\n",
    "* the total amound due should be printed on a line that includes the word `\"Total\"` followed by a dollar amount on the same line"
   ]
  },
  {
   "cell_type": "code",
   "execution_count": 776,
   "metadata": {
    "collapsed": false,
    "deletable": false,
    "nbgrader": {
     "checksum": "1df4a1d4be88cc0c6f4280e906e005f8",
     "grade": true,
     "grade_id": "report",
     "locked": false,
     "points": 10,
     "solution": true
    }
   },
   "outputs": [],
   "source": [
    "def sakila_report(customer, month, year):\n",
    "    a= customer_names(customer)\n",
    "    if len(a) == 0 or len(a)>1:\n",
    "        return None\n",
    "    rental = film_list(customer,month,year)\n",
    "    total_payment =0\n",
    "    total = 0\n",
    "    print(\"---Sakila DVD Rentals---\")\n",
    "    print()\n",
    "    dis = 'monthly report for {} {}'.format(a[0][0],a[0][1])\n",
    "    for i in rental:\n",
    "        total += i[1]\n",
    "        rental_date = mmddyyyy(i[2])\n",
    "        dis +='\\n \\n${} <{}> ranted at :{}'.format(i[1],i[0],rental_date)\n",
    "        \n",
    "        if overdue(i[2],i[3],i[4])== True:\n",
    "            total_payment += i[1]\n",
    "            dis += '\\nOver due \\n *add late fee ${}'.format(i[1])\n",
    "    total_payment = total_payment +total\n",
    "    dis +='\\n Monthly Total: ${0:.2f}'.format(total_payment)\n",
    "    print(dis)"
   ]
  },
  {
   "cell_type": "markdown",
   "metadata": {},
   "source": [
    "##### <span style=\"color:red\">Tests</span>"
   ]
  },
  {
   "cell_type": "markdown",
   "metadata": {},
   "source": [
    "You can use code cells in this section (and add more if you wish) to test your functions."
   ]
  },
  {
   "cell_type": "code",
   "execution_count": 777,
   "metadata": {
    "collapsed": false
   },
   "outputs": [
    {
     "name": "stdout",
     "output_type": "stream",
     "text": [
      "---Sakila DVD Rentals---\n",
      "\n",
      "monthly report for Leo Ebert\n",
      " \n",
      "$2.99 <Lonely Elephant> ranted at :06/16/2005\n",
      "Over due \n",
      " *add late fee $2.99\n",
      " \n",
      "$4.99 <Enemy Odds> ranted at :06/18/2005\n",
      "Over due \n",
      " *add late fee $4.99\n",
      " \n",
      "$0.99 <Song Hedwig> ranted at :06/20/2005\n",
      "Over due \n",
      " *add late fee $0.99\n",
      " \n",
      "$4.99 <Wash Heavenly> ranted at :06/21/2005\n",
      " \n",
      "$2.99 <Hurricane Affair> ranted at :06/21/2005\n",
      " Monthly Total: $25.92\n"
     ]
    }
   ],
   "source": [
    "\n",
    "sakila_report('Ebert', 6, 2005)"
   ]
  },
  {
   "cell_type": "code",
   "execution_count": 755,
   "metadata": {
    "collapsed": false
   },
   "outputs": [
    {
     "ename": "AssertionError",
     "evalue": "",
     "output_type": "error",
     "traceback": [
      "\u001b[0;31m---------------------------------------------------------------------------\u001b[0m",
      "\u001b[0;31mAssertionError\u001b[0m                            Traceback (most recent call last)",
      "\u001b[0;32m<ipython-input-755-d1e69db46ca1>\u001b[0m in \u001b[0;36m<module>\u001b[0;34m()\u001b[0m\n\u001b[0;32m----> 1\u001b[0;31m \u001b[0mcheck_report\u001b[0m\u001b[0;34m(\u001b[0m\u001b[0mres\u001b[0m\u001b[0;34m.\u001b[0m\u001b[0mstdout\u001b[0m\u001b[0;34m,\u001b[0m \u001b[0;36m8\u001b[0m\u001b[0;34m,\u001b[0m \u001b[0;34m'$25.92'\u001b[0m\u001b[0;34m)\u001b[0m\u001b[0;34m\u001b[0m\u001b[0m\n\u001b[0m",
      "\u001b[0;32m<ipython-input-742-958bf15719e4>\u001b[0m in \u001b[0;36mcheck_report\u001b[0;34m(text, expected_count, expected_total)\u001b[0m\n\u001b[1;32m     10\u001b[0m             \u001b[0;32mfor\u001b[0m \u001b[0ms\u001b[0m \u001b[0;32min\u001b[0m \u001b[0mre\u001b[0m\u001b[0;34m.\u001b[0m\u001b[0mfindall\u001b[0m\u001b[0;34m(\u001b[0m\u001b[0;34mr'\\$\\d+\\.\\d\\d'\u001b[0m\u001b[0;34m,\u001b[0m \u001b[0mline\u001b[0m\u001b[0;34m)\u001b[0m\u001b[0;34m:\u001b[0m\u001b[0;34m\u001b[0m\u001b[0m\n\u001b[1;32m     11\u001b[0m                 \u001b[0mnums\u001b[0m\u001b[0;34m.\u001b[0m\u001b[0mappend\u001b[0m\u001b[0;34m(\u001b[0m\u001b[0ms\u001b[0m\u001b[0;34m)\u001b[0m\u001b[0;34m\u001b[0m\u001b[0m\n\u001b[0;32m---> 12\u001b[0;31m     \u001b[0;32massert\u001b[0m\u001b[0;34m(\u001b[0m\u001b[0mlen\u001b[0m\u001b[0;34m(\u001b[0m\u001b[0mnums\u001b[0m\u001b[0;34m)\u001b[0m \u001b[0;34m==\u001b[0m \u001b[0mexpected_count\u001b[0m\u001b[0;34m)\u001b[0m\u001b[0;34m\u001b[0m\u001b[0m\n\u001b[0m\u001b[1;32m     13\u001b[0m     \u001b[0mtotal\u001b[0m \u001b[0;34m=\u001b[0m \u001b[0;36m0.0\u001b[0m\u001b[0;34m\u001b[0m\u001b[0m\n\u001b[1;32m     14\u001b[0m     \u001b[0;32mfor\u001b[0m \u001b[0ms\u001b[0m \u001b[0;32min\u001b[0m \u001b[0mnums\u001b[0m\u001b[0;34m:\u001b[0m\u001b[0;34m\u001b[0m\u001b[0m\n",
      "\u001b[0;31mAssertionError\u001b[0m: "
     ]
    }
   ],
   "source": [
    "check_report(res.stdout, 8, '$25.92')"
   ]
  },
  {
   "cell_type": "markdown",
   "metadata": {},
   "source": [
    "##### <span style=\"color:red\">Autograder Tests</span>"
   ]
  },
  {
   "cell_type": "markdown",
   "metadata": {},
   "source": [
    "The tests for the `sakila_report` function will call the function and while using the IPython `capture` command to save everything the function prints.  We'll then use a function that counts the number of times a dollar amount (from either a rental fee or a late fee) occurs and make sure the total amount is the expected value.\n",
    "\n",
    "**Do not edit, copy, or delete these cells.**"
   ]
  },
  {
   "cell_type": "code",
   "execution_count": 778,
   "metadata": {
    "collapsed": false,
    "deletable": false,
    "nbgrader": {
     "checksum": "2f49d1799c7ab14021f07a28be3c903a",
     "grade": false,
     "grade_id": "check_report",
     "locked": true,
     "solution": false
    }
   },
   "outputs": [],
   "source": [
    "import re\n",
    "\n",
    "def check_report(text, expected_count, expected_total):\n",
    "    nums = []\n",
    "    for line in text.split('\\n'):\n",
    "        has_total = re.search(r'Total.*(\\$\\d+\\.\\d\\d)', line)\n",
    "        if has_total:\n",
    "            assert has_total.group(1) == expected_total\n",
    "        else:\n",
    "            for s in re.findall(r'\\$\\d+\\.\\d\\d', line):\n",
    "                nums.append(s)\n",
    "    assert(len(nums) == expected_count)\n",
    "    total = 0.0\n",
    "    for s in nums:\n",
    "        total += float(s[1:])\n",
    "    assert(round(total,2)) == round(float(expected_total[1:]), 2)\n",
    "    return True"
   ]
  },
  {
   "cell_type": "code",
   "execution_count": 779,
   "metadata": {
    "collapsed": true,
    "deletable": false,
    "nbgrader": {
     "checksum": "669aa6961ac2f3df7f43f3739c606684",
     "grade": false,
     "grade_id": "capture_leo",
     "locked": true,
     "solution": false
    }
   },
   "outputs": [],
   "source": [
    "%%capture res\n",
    "sakila_report('Ebert', 6, 2005)"
   ]
  },
  {
   "cell_type": "code",
   "execution_count": 780,
   "metadata": {
    "collapsed": false,
    "deletable": false,
    "nbgrader": {
     "checksum": "52d5bbb12d2951cd7f316dfafb8f9357",
     "grade": true,
     "grade_id": "leo_test",
     "locked": true,
     "points": 4,
     "solution": false
    }
   },
   "outputs": [],
   "source": [
    "assert check_report(res.stdout, 8, '$25.92')"
   ]
  },
  {
   "cell_type": "code",
   "execution_count": 781,
   "metadata": {
    "collapsed": true,
    "deletable": false,
    "nbgrader": {
     "checksum": "8ff3338ef9d21fa580671aa6f7141965",
     "grade": false,
     "grade_id": "capture_mary",
     "locked": true,
     "solution": false
    }
   },
   "outputs": [],
   "source": [
    "%%capture res\n",
    "sakila_report('Smith', 8, 2005)"
   ]
  },
  {
   "cell_type": "code",
   "execution_count": 782,
   "metadata": {
    "collapsed": false,
    "deletable": false,
    "nbgrader": {
     "checksum": "ef16e7521cb06dedabc59aa25a9e390d",
     "grade": true,
     "grade_id": "mary_test",
     "locked": true,
     "points": 4,
     "solution": false
    }
   },
   "outputs": [],
   "source": [
    "assert check_report(res.stdout, 15, '$32.85')"
   ]
  },
  {
   "cell_type": "code",
   "execution_count": 783,
   "metadata": {
    "collapsed": false,
    "deletable": false,
    "nbgrader": {
     "checksum": "f405bf0dc3d1f189495a57dfdc8b8a1e",
     "grade": false,
     "grade_id": "capture_alan",
     "locked": true,
     "solution": false
    }
   },
   "outputs": [],
   "source": [
    "%%capture res\n",
    "sakila_report('Turing', 6, 2005)"
   ]
  },
  {
   "cell_type": "code",
   "execution_count": 784,
   "metadata": {
    "collapsed": false,
    "deletable": false,
    "nbgrader": {
     "checksum": "db75b21478ac4552611eeb700788d17c",
     "grade": true,
     "grade_id": "alan_test",
     "locked": true,
     "points": 2,
     "solution": false
    }
   },
   "outputs": [],
   "source": [
    "assert len(res.stdout) == 0"
   ]
  },
  {
   "cell_type": "code",
   "execution_count": null,
   "metadata": {
    "collapsed": true
   },
   "outputs": [],
   "source": []
  },
  {
   "cell_type": "code",
   "execution_count": null,
   "metadata": {
    "collapsed": true
   },
   "outputs": [],
   "source": []
  }
 ],
 "metadata": {
  "kernelspec": {
   "display_name": "Python 3",
   "language": "python",
   "name": "python3"
  },
  "language_info": {
   "codemirror_mode": {
    "name": "ipython",
    "version": 3
   },
   "file_extension": ".py",
   "mimetype": "text/x-python",
   "name": "python",
   "nbconvert_exporter": "python",
   "pygments_lexer": "ipython3",
   "version": "3.4.4"
  }
 },
 "nbformat": 4,
 "nbformat_minor": 0
}
